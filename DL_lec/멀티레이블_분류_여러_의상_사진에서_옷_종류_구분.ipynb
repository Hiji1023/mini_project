{
  "nbformat": 4,
  "nbformat_minor": 0,
  "metadata": {
    "colab": {
      "provenance": [],
      "include_colab_link": true
    },
    "kernelspec": {
      "name": "python3",
      "display_name": "Python 3"
    },
    "accelerator": "GPU"
  },
  "cells": [
    {
      "cell_type": "markdown",
      "metadata": {
        "id": "view-in-github",
        "colab_type": "text"
      },
      "source": [
        "<a href=\"https://colab.research.google.com/github/Hiji1023/mini_project/blob/main/%EB%A9%80%ED%8B%B0%EB%A0%88%EC%9D%B4%EB%B8%94_%EB%B6%84%EB%A5%98_%EC%97%AC%EB%9F%AC_%EC%9D%98%EC%83%81_%EC%82%AC%EC%A7%84%EC%97%90%EC%84%9C_%EC%98%B7_%EC%A2%85%EB%A5%98_%EA%B5%AC%EB%B6%84.ipynb\" target=\"_parent\"><img src=\"https://colab.research.google.com/assets/colab-badge.svg\" alt=\"Open In Colab\"/></a>"
      ]
    },
    {
      "cell_type": "markdown",
      "metadata": {
        "id": "oR0VJlz7mi5A"
      },
      "source": [
        "\n",
        "# 주제 : 여러 의상 사진에서 옷 종류 구분하기\n",
        "--------------\n",
        "## 실습 가이드\n",
        "    1. 데이터를 다운로드하여 Colab에 불러옵니다.\n",
        "    2. 필요한 라이브러리는 모두 코드로 작성되어 있습니다.\n",
        "    3. 코드는 위에서부터 아래로 순서대로 실행합니다.\n",
        "    4. 전체 문제 구성은 좌측 첫 번째 아이콘을 통해 확인할 수 있습니다.\n",
        "\n",
        "## 데이터 소개\n",
        "  - 이번 주제의 데이터는 너무나 유명한 fashion MNIST 데이터를 사용합니다.\n",
        "  ![mnist 이미지](https://rviews.rstudio.com/post/2019-10-31-a-comparison-of-methods-for-predicting-clothing-classes-using-the-fashion-mnist-dataset-in-rstudio-and-python-part-1/index_files/figure-html/unnamed-chunk-8-1.png)\n",
        "\n",
        "   위의 이미지는 다음과 같은 것을 보여줍니다.  \n",
        "(a) 28x28의 배열에서 의류의 모습 어떻게 모사되는지   \n",
        "(b) 각 0-9까지의 다양한 의류 그림의 모습들\n",
        "\n",
        "\n",
        "   - 데이터 출처: [fashionmnist](https://www.kaggle.com/zalando-research/fashionmnist)\n",
        "\n",
        "## 최종 목표\n",
        "\n",
        "  - fashion MNIST 이미지를 클래시피케이션 하기\n",
        "  - 멀티 클래스와 멀티레이블 구분하기\n",
        "  - 이미지 확장 하기\n",
        "  - 이미지에 객체 삽입하기\n",
        "\n",
        "  - 출제자 : 손근영 강사\n"
      ]
    },
    {
      "cell_type": "markdown",
      "source": [
        "### multi class = 무조건 분류할 객체가 하나인 경우 ###\n",
        "\n",
        "### multi label = 분류할 객체가 여러개인 경우 ###\n",
        "\n",
        "\n"
      ],
      "metadata": {
        "id": "Fqq05SnIqjlR"
      }
    },
    {
      "cell_type": "code",
      "metadata": {
        "id": "e7kl3hgkikbo"
      },
      "source": [
        "import tensorflow as tf\n",
        "from tensorflow import keras\n",
        "from keras.layers import Dense\n",
        "from keras.models import Sequential\n",
        "\n",
        "import pandas as pd\n",
        "import numpy as np\n",
        "import matplotlib.pyplot as plt\n",
        "import seaborn as sns\n",
        "import warnings\n",
        "from IPython.display import Image\n",
        "\n",
        "warnings.filterwarnings('ignore')\n",
        "%matplotlib inline\n",
        "\n",
        "SEED = 34"
      ],
      "execution_count": 2,
      "outputs": []
    },
    {
      "cell_type": "markdown",
      "metadata": {
        "id": "c5uDUVunS1Yk"
      },
      "source": [
        "## Step 1. 도입전 기본 처리"
      ]
    },
    {
      "cell_type": "markdown",
      "metadata": {
        "id": "2Bgf6uZtoBob"
      },
      "source": [
        "### 문제 1. fashion mnist 데이터 살펴보기"
      ]
    },
    {
      "cell_type": "code",
      "metadata": {
        "id": "l2NW5G5nTgsb"
      },
      "source": [
        "# 데이터를 불러오는 코드를 작성해주세요.\n",
        "fashion_mnist = keras.datasets.fashion_mnist\n",
        "((train_images, train_labels),(test_images, test_labels)) = fashion_mnist.load_data()"
      ],
      "execution_count": 3,
      "outputs": []
    },
    {
      "cell_type": "markdown",
      "metadata": {
        "id": "ko4D-BpJTq2r"
      },
      "source": [
        "### 문제 2. train_images/labels와 test_images/labes의 shape을 출력해보세요."
      ]
    },
    {
      "cell_type": "code",
      "metadata": {
        "id": "waksbx9aT5tK",
        "colab": {
          "base_uri": "https://localhost:8080/"
        },
        "outputId": "354017da-4ace-4624-8283-9b8566d719f5"
      },
      "source": [
        "# 데이터의 크기를 shape 함수를 통해 출력해주세요.\n",
        "print(f\"train_images shape : {train_images.shape}\")\n",
        "print(f\"train_labels shape : {train_labels.shape}\")\n",
        "print(f\"test_images shape : {test_images.shape}\")\n",
        "print(f\"test_labels shape : {test_labels.shape}\")"
      ],
      "execution_count": 4,
      "outputs": [
        {
          "output_type": "stream",
          "name": "stdout",
          "text": [
            "train_images shape : (60000, 28, 28)\n",
            "train_labels shape : (60000,)\n",
            "test_images shape : (10000, 28, 28)\n",
            "test_labels shape : (10000,)\n"
          ]
        }
      ]
    },
    {
      "cell_type": "code",
      "metadata": {
        "id": "KlDtX99RrTBe"
      },
      "source": [
        "# 레이블을 설정해보세요.\n",
        "labels = [\"T-shirt/top\",  # index 0\n",
        "        \"Trouser\",      # index 1\n",
        "        \"Pullover\",     # index 2\n",
        "        \"Dress\",        # index 3\n",
        "        \"Coat\",         # index 4\n",
        "        \"Sandal\",       # index 5\n",
        "        \"Shirt\",        # index 6\n",
        "        \"Sneaker\",      # index 7\n",
        "        \"Bag\",          # index 8\n",
        "        \"Ankle boot\"]   # index 9\n",
        "\n",
        "def idx2label(idx):\n",
        "    return labels[idx]"
      ],
      "execution_count": 5,
      "outputs": []
    },
    {
      "cell_type": "code",
      "source": [
        "idx2label(test_labels[0])"
      ],
      "metadata": {
        "colab": {
          "base_uri": "https://localhost:8080/",
          "height": 36
        },
        "id": "r-HA9kebuL8x",
        "outputId": "ff809100-fec9-447e-8f22-88889ba17743"
      },
      "execution_count": 6,
      "outputs": [
        {
          "output_type": "execute_result",
          "data": {
            "text/plain": [
              "'Ankle boot'"
            ],
            "application/vnd.google.colaboratory.intrinsic+json": {
              "type": "string"
            }
          },
          "metadata": {},
          "execution_count": 6
        }
      ]
    },
    {
      "cell_type": "markdown",
      "metadata": {
        "id": "hrmQ7HzEUKrz"
      },
      "source": [
        "### 문제 3. (28, 28) 형태의 이미지를 plt을 이용하여 출력해보세요."
      ]
    },
    {
      "cell_type": "code",
      "metadata": {
        "id": "fVzGHMSYUUKk",
        "colab": {
          "base_uri": "https://localhost:8080/",
          "height": 449
        },
        "outputId": "552f7175-a844-4e9c-f781-af766bcac091"
      },
      "source": [
        "# 28x28의 흑백 이미지를 plt를 이용하여 출력하는 코드를 작성해보세요\n",
        "plt.imshow(test_images[0])\n",
        "plt.show()\n",
        "print(idx2label(test_labels[0]))"
      ],
      "execution_count": 7,
      "outputs": [
        {
          "output_type": "display_data",
          "data": {
            "text/plain": [
              "<Figure size 640x480 with 1 Axes>"
            ],
            "image/png": "[encoded data removed]"
          },
          "metadata": {}
        },
        {
          "output_type": "stream",
          "name": "stdout",
          "text": [
            "Ankle boot\n"
          ]
        }
      ]
    },
    {
      "cell_type": "code",
      "metadata": {
        "id": "dV75uS_1rcpo",
        "colab": {
          "base_uri": "https://localhost:8080/",
          "height": 452
        },
        "outputId": "c9eb0149-275c-4b44-f7dd-7de99fbe75a4"
      },
      "source": [
        "# plt의 title에 label 정보를 출력해보세요.\n",
        "plt.imshow(test_images[0], cmap='gray')\n",
        "plt.title(idx2label(test_labels[0]))\n",
        "plt.show()\n",
        "\n",
        "def show(idx):\n",
        "    plt.imshow(train_images[idx],cmap = \"gray\")\n",
        "    plt.title(idx2label(train_labels[idx]))\n",
        "    plt.show()"
      ],
      "execution_count": 8,
      "outputs": [
        {
          "output_type": "display_data",
          "data": {
            "text/plain": [
              "<Figure size 640x480 with 1 Axes>"
            ],
            "image/png": "[encoded data removed]"
          },
          "metadata": {}
        }
      ]
    },
    {
      "cell_type": "code",
      "source": [
        "show(3)"
      ],
      "metadata": {
        "colab": {
          "base_uri": "https://localhost:8080/",
          "height": 452
        },
        "id": "GwQhvyEnx4jE",
        "outputId": "28efccc9-0e92-4055-e669-75f1365d46dc"
      },
      "execution_count": 9,
      "outputs": [
        {
          "output_type": "display_data",
          "data": {
            "text/plain": [
              "<Figure size 640x480 with 1 Axes>"
            ],
            "image/png": "[encoded data removed]"
          },
          "metadata": {}
        }
      ]
    },
    {
      "cell_type": "markdown",
      "metadata": {
        "id": "vDLHexaGUs17"
      },
      "source": [
        "### 문제 4. train_images에서 0이 아닌 값들을 출력해보세요."
      ]
    },
    {
      "cell_type": "code",
      "metadata": {
        "id": "1NYdCv1yUsKG",
        "colab": {
          "base_uri": "https://localhost:8080/"
        },
        "outputId": "1972998a-1849-4028-9d62-2bae5fedced7"
      },
      "source": [
        "# 하나의 이미지에 대한 모든 0이 아닌 값을 출력하는 코드를 작성하세요.\n",
        "train_images[train_images != 0 ][:5]"
      ],
      "execution_count": 10,
      "outputs": [
        {
          "output_type": "execute_result",
          "data": {
            "text/plain": [
              "array([ 1, 13, 73,  1,  4], dtype=uint8)"
            ]
          },
          "metadata": {},
          "execution_count": 10
        }
      ]
    },
    {
      "cell_type": "code",
      "metadata": {
        "id": "iTBMH7M1tfNI",
        "colab": {
          "base_uri": "https://localhost:8080/"
        },
        "outputId": "07fd06d2-8502-48ed-807c-5e22c651c7c0"
      },
      "source": [
        "# 이미지의 값이 가장 큰 idx와 작은 idx를 구하여 출력해보세요\n",
        "print(train_images.reshape((60000, -1)).sum(axis=1).argmax())\n",
        "print(train_images.reshape((60000, -1)).sum(axis=1).argmin())"
      ],
      "execution_count": 11,
      "outputs": [
        {
          "output_type": "stream",
          "name": "stdout",
          "text": [
            "55023\n",
            "9230\n"
          ]
        }
      ]
    },
    {
      "cell_type": "code",
      "source": [
        "print(train_images.reshape((60000, -1)).sum(axis=1)[55023])\n",
        "print(train_images.reshape((60000, -1)).sum(axis=1)[9230])"
      ],
      "metadata": {
        "colab": {
          "base_uri": "https://localhost:8080/"
        },
        "id": "fjfiZZlY1DQs",
        "outputId": "35efee47-10b0-4330-a5e8-9979e2b73814"
      },
      "execution_count": 12,
      "outputs": [
        {
          "output_type": "stream",
          "name": "stdout",
          "text": [
            "150387\n",
            "3876\n"
          ]
        }
      ]
    },
    {
      "cell_type": "code",
      "source": [
        "show(55023)"
      ],
      "metadata": {
        "colab": {
          "base_uri": "https://localhost:8080/",
          "height": 452
        },
        "id": "nEQrwXBT1Oyn",
        "outputId": "81e89043-cc5d-49bd-9e94-52dc61d00fe6"
      },
      "execution_count": 13,
      "outputs": [
        {
          "output_type": "display_data",
          "data": {
            "text/plain": [
              "<Figure size 640x480 with 1 Axes>"
            ],
            "image/png": "[encoded data removed]"
          },
          "metadata": {}
        }
      ]
    },
    {
      "cell_type": "code",
      "source": [
        "show(9230)"
      ],
      "metadata": {
        "colab": {
          "base_uri": "https://localhost:8080/",
          "height": 452
        },
        "id": "-jQPcVaA1XJV",
        "outputId": "b505dccf-e8fd-4358-ae20-5b786f291e03"
      },
      "execution_count": 14,
      "outputs": [
        {
          "output_type": "display_data",
          "data": {
            "text/plain": [
              "<Figure size 640x480 with 1 Axes>"
            ],
            "image/png": "[encoded data removed]"
          },
          "metadata": {}
        }
      ]
    },
    {
      "cell_type": "markdown",
      "metadata": {
        "id": "CZOhbFOFU_jr"
      },
      "source": [
        "### 문제 5. train_images의 dtype을 출력해보세요."
      ]
    },
    {
      "cell_type": "code",
      "metadata": {
        "id": "nVc4kjgAVNl7",
        "colab": {
          "base_uri": "https://localhost:8080/"
        },
        "outputId": "0f8de49c-bee8-4913-95f0-220558bf76c2"
      },
      "source": [
        "# dtype을 이용하여 이미지의 np array type을 확인해보세요.\n",
        "train_images.dtype"
      ],
      "execution_count": 15,
      "outputs": [
        {
          "output_type": "execute_result",
          "data": {
            "text/plain": [
              "dtype('uint8')"
            ]
          },
          "metadata": {},
          "execution_count": 15
        }
      ]
    },
    {
      "cell_type": "markdown",
      "metadata": {
        "id": "eKv9UoZAxTr6"
      },
      "source": [
        "## Step 2. 전처리"
      ]
    },
    {
      "cell_type": "markdown",
      "metadata": {
        "id": "UTXpP1Imyaad"
      },
      "source": [
        "### 문제 6. train/test 이미지 데이터의 범위 확인"
      ]
    },
    {
      "cell_type": "code",
      "metadata": {
        "id": "Ji6XLxvRy5eJ",
        "colab": {
          "base_uri": "https://localhost:8080/"
        },
        "outputId": "f2143fa0-ba79-48aa-99b6-755477c71e77"
      },
      "source": [
        "# test_images의 shape과 dtype, 0이 아닌 숫자를 출력하는 코드를 작성하세요.\n",
        "print(f\"train_images: {list(filter(lambda x: x != 0, train_images[1000].reshape(-1)))[:10]}\")\n",
        "print(f\"test_images: {list(filter(lambda x: x != 0, test_images[1000].reshape(-1)))[:10]}\")\n",
        "\n",
        "print(f\"train_images: {train_images[train_images !=0][:10]}\")\n",
        "print(f\"test_images: {test_images[test_images !=0][:10]}\")\n",
        "\n",
        "print(f\"train_images: {train_images.shape}\")\n",
        "print(f\"test_images: {test_images.shape}\")\n",
        "\n",
        "print(f\"train_images: {train_images.dtype}\")\n",
        "print(f\"test_images: {test_images.dtype}\")"
      ],
      "execution_count": 16,
      "outputs": [
        {
          "output_type": "stream",
          "name": "stdout",
          "text": [
            "train_images: [97, 84, 97, 110, 108, 87, 97, 19, 255, 199]\n",
            "test_images: [1, 84, 80, 13, 97, 48, 161, 189, 197, 1]\n",
            "train_images: [  1  13  73   1   4   1   1   3  36 136]\n",
            "test_images: [  3   1   7  37   1   2  27  84  11 119]\n",
            "train_images: (60000, 28, 28)\n",
            "test_images: (10000, 28, 28)\n",
            "train_images: uint8\n",
            "test_images: uint8\n"
          ]
        }
      ]
    },
    {
      "cell_type": "markdown",
      "metadata": {
        "id": "7OpFGbD6V8Zl"
      },
      "source": [
        "### 문제 7. train/test 이미지 데이터의 최소/최대값을 출력"
      ]
    },
    {
      "cell_type": "code",
      "metadata": {
        "id": "sFOJNRTvYo7d",
        "colab": {
          "base_uri": "https://localhost:8080/"
        },
        "outputId": "d172d101-a783-4bd2-843e-ec24d26d9b6e"
      },
      "source": [
        "# train/test 전체 데이터에서 각 images, labels의 min, max를 출력하는 코드를 작성하세요.\n",
        "print(train_images.min(),train_images.max())\n",
        "print(test_images.min(),test_images.max())\n",
        "print(train_labels.min(),train_labels.max())\n",
        "print(test_labels.min(),test_labels.max())"
      ],
      "execution_count": 17,
      "outputs": [
        {
          "output_type": "stream",
          "name": "stdout",
          "text": [
            "0 255\n",
            "0 255\n",
            "0 9\n",
            "0 9\n"
          ]
        }
      ]
    },
    {
      "cell_type": "markdown",
      "metadata": {
        "id": "W_xsByHegZhh"
      },
      "source": [
        "### 문제 8. 정수형을 실수형으로 변경 후 dtype으로 비교"
      ]
    },
    {
      "cell_type": "code",
      "metadata": {
        "id": "Y88qmAVChg_Z",
        "colab": {
          "base_uri": "https://localhost:8080/"
        },
        "outputId": "3715dbb6-d706-4b08-9a13-4d19db469cd8"
      },
      "source": [
        "# train/test 데이터의 타입을 dtype으로 확인해보고 실수형으로 전환하는 코드를 작성하세요.\n",
        "print(train_images.dtype)\n",
        "print(test_images.dtype)"
      ],
      "execution_count": 18,
      "outputs": [
        {
          "output_type": "stream",
          "name": "stdout",
          "text": [
            "uint8\n",
            "uint8\n"
          ]
        }
      ]
    },
    {
      "cell_type": "code",
      "source": [
        "print(train_images.astype(np.float64).dtype)\n",
        "print(test_images.astype(np.float64).dtype)"
      ],
      "metadata": {
        "colab": {
          "base_uri": "https://localhost:8080/"
        },
        "id": "2AsG5LWb8wLq",
        "outputId": "8e7ec4e3-ef31-47e3-bb92-de8cd9fc6998"
      },
      "execution_count": 19,
      "outputs": [
        {
          "output_type": "stream",
          "name": "stdout",
          "text": [
            "float64\n",
            "float64\n"
          ]
        }
      ]
    },
    {
      "cell_type": "markdown",
      "metadata": {
        "id": "9iIJK2qsfevX"
      },
      "source": [
        "### 문제 9. 데이터 0-1 노말라이즈 수행\n"
      ]
    },
    {
      "cell_type": "markdown",
      "metadata": {
        "id": "L0f__zuBfotM"
      },
      "source": [
        "#### 힌트\n",
        "\n",
        "일반적으로 0-1사의의 값을 가지게 하기 위해서는 다음 수식을 사용합니다.\n",
        "\n",
        "$$normalize(x) = \\frac{x - 최소값}{최대값 - 최소값}$$\n",
        "\n",
        "이 경우 최소값이 0이기 떄문에 다음과 같이 간편하게 구할 수 있습니다.\n",
        "\n",
        "$$normalize(x) = \\frac{x}{최대값}$$"
      ]
    },
    {
      "cell_type": "code",
      "metadata": {
        "id": "SV2A6JZBf7Ku",
        "colab": {
          "base_uri": "https://localhost:8080/"
        },
        "outputId": "1867d5aa-d60a-4aa9-dd66-6c8fc28706ee"
      },
      "source": [
        "# images의 값이 0-1사이의 값을 같도록 코드를 작성해보세요.\n",
        "#(train_images / train_images.max()).max()\n",
        "(train_images/255.0).min(), (train_images/255.0).max()"
      ],
      "execution_count": 20,
      "outputs": [
        {
          "output_type": "execute_result",
          "data": {
            "text/plain": [
              "(0.0, 1.0)"
            ]
          },
          "metadata": {},
          "execution_count": 20
        }
      ]
    },
    {
      "cell_type": "code",
      "metadata": {
        "id": "-mVAW1rvwoTP"
      },
      "source": [
        "# 임의의 구간으로 노말라이즈 할 수 있는 코드를 작성해보세요\n",
        "def norm(data):\n",
        "    min_v = data.min()\n",
        "    max_v = data.max()\n",
        "    return (data - min_v)/(max_v-min_v)"
      ],
      "execution_count": 21,
      "outputs": []
    },
    {
      "cell_type": "code",
      "source": [
        "print(norm(train_images).min(), norm(train_images).max())\n",
        "print(norm(train_labels).min(), norm(train_labels).max())"
      ],
      "metadata": {
        "colab": {
          "base_uri": "https://localhost:8080/"
        },
        "id": "Ao5ELfns_NB-",
        "outputId": "a96373b0-0e41-4076-efea-99b7d727422e"
      },
      "execution_count": 22,
      "outputs": [
        {
          "output_type": "stream",
          "name": "stdout",
          "text": [
            "0.0 1.0\n",
            "0.0 1.0\n"
          ]
        }
      ]
    },
    {
      "cell_type": "code",
      "source": [
        "train_images = norm(train_images)\n",
        "test_images = norm(test_images)"
      ],
      "metadata": {
        "id": "A4yeDK33AsOi"
      },
      "execution_count": 23,
      "outputs": []
    },
    {
      "cell_type": "code",
      "source": [
        "print(train_images.min(), train_images.max())\n",
        "print(test_images.min(), test_images.max())"
      ],
      "metadata": {
        "colab": {
          "base_uri": "https://localhost:8080/"
        },
        "id": "-fwSeceDBTt9",
        "outputId": "384f04ec-e65e-4262-8d8e-c18ea7dbca2b"
      },
      "execution_count": 24,
      "outputs": [
        {
          "output_type": "stream",
          "name": "stdout",
          "text": [
            "0.0 1.0\n",
            "0.0 1.0\n"
          ]
        }
      ]
    },
    {
      "cell_type": "markdown",
      "metadata": {
        "id": "8QqqdPzDiC3F"
      },
      "source": [
        "### 문제 10. 0-1 노말라이즈 후 데이터의 값이 변경되었는지 문제 6, 7의 방법을 이용하여 확인하세요."
      ]
    },
    {
      "cell_type": "code",
      "metadata": {
        "id": "t-ZKXRKO2rBE",
        "colab": {
          "base_uri": "https://localhost:8080/"
        },
        "outputId": "09699f14-3fd3-43ef-b912-61982380806d"
      },
      "source": [
        "# 노말라이즈 후 min/max, shape, 0이 아닌 값, dtype 등을 확인하는 코드를 작성해보세요.\n",
        "print(f\"train_images: {list(filter(lambda x: x != 0, train_images[1000].reshape(-1)))[:10]}\")\n",
        "print(f\"test_images: {list(filter(lambda x: x != 0, test_images[1000].reshape(-1)))[:10]}\")\n",
        "\n",
        "print(f\"train_images: {train_images[train_images !=0][:10]}\")\n",
        "print(f\"test_images: {test_images[test_images !=0][:10]}\")\n",
        "\n",
        "print(f\"train_images: {train_images.shape}\")\n",
        "print(f\"test_images: {test_images.shape}\")\n",
        "\n",
        "print(f\"train_images: {train_images.dtype}\")\n",
        "print(f\"test_images: {test_images.dtype}\")"
      ],
      "execution_count": 25,
      "outputs": [
        {
          "output_type": "stream",
          "name": "stdout",
          "text": [
            "train_images: [0.3803921568627451, 0.32941176470588235, 0.3803921568627451, 0.43137254901960786, 0.4235294117647059, 0.3411764705882353, 0.3803921568627451, 0.07450980392156863, 1.0, 0.7803921568627451]\n",
            "test_images: [0.00392156862745098, 0.32941176470588235, 0.3137254901960784, 0.050980392156862744, 0.3803921568627451, 0.18823529411764706, 0.6313725490196078, 0.7411764705882353, 0.7725490196078432, 0.00392156862745098]\n",
            "train_images: [0.00392157 0.05098039 0.28627451 0.00392157 0.01568627 0.00392157\n",
            " 0.00392157 0.01176471 0.14117647 0.53333333]\n",
            "test_images: [0.01176471 0.00392157 0.02745098 0.14509804 0.00392157 0.00784314\n",
            " 0.10588235 0.32941176 0.04313725 0.46666667]\n",
            "train_images: (60000, 28, 28)\n",
            "test_images: (10000, 28, 28)\n",
            "train_images: float64\n",
            "test_images: float64\n"
          ]
        }
      ]
    },
    {
      "cell_type": "code",
      "metadata": {
        "id": "r855HJjIw7Zv",
        "colab": {
          "base_uri": "https://localhost:8080/"
        },
        "outputId": "8c98ac9d-3a41-431f-a675-752912e7672d"
      },
      "source": [
        "# 스케일링 범위를 바꿔서 시도해보세요\n",
        "\n",
        "a = norm(train_images) *3\n",
        "print(a.min(),a.max())\n",
        "\n",
        "a = norm(train_images) *4\n",
        "print(a.min(),a.max())"
      ],
      "execution_count": 26,
      "outputs": [
        {
          "output_type": "stream",
          "name": "stdout",
          "text": [
            "0.0 3.0\n",
            "0.0 4.0\n"
          ]
        }
      ]
    },
    {
      "cell_type": "markdown",
      "metadata": {
        "id": "SMyUArry3UhT"
      },
      "source": [
        "## Step 3. 시각화 방법"
      ]
    },
    {
      "cell_type": "markdown",
      "metadata": {
        "id": "UFga-Bbo6L0E"
      },
      "source": [
        "### 문제 11. train_image의 이미지를 5장 획득하여 (5, 28, 28)의 shape을 출력하세요."
      ]
    },
    {
      "cell_type": "code",
      "metadata": {
        "id": "cLaqqwz4i_7D",
        "colab": {
          "base_uri": "https://localhost:8080/"
        },
        "outputId": "c65d0890-3f8c-4bb4-b3dc-08b04e915a40"
      },
      "source": [
        "# (60000, 28, 28)인 train_images에서 (5, 28, 28)을 획득하는 코드를 작성하세요.\n",
        "train_images[:5].shape"
      ],
      "execution_count": 27,
      "outputs": [
        {
          "output_type": "execute_result",
          "data": {
            "text/plain": [
              "(5, 28, 28)"
            ]
          },
          "metadata": {},
          "execution_count": 27
        }
      ]
    },
    {
      "cell_type": "markdown",
      "metadata": {
        "id": "gX8JH97njNNr"
      },
      "source": [
        "### 문제 12. 획득한 5장의 의미지를 (28, 28 * 5)의 shape으로 변경해보세요."
      ]
    },
    {
      "cell_type": "code",
      "metadata": {
        "id": "bxRhMcaKk3Pa",
        "colab": {
          "base_uri": "https://localhost:8080/"
        },
        "outputId": "337f1dc1-a012-4619-e19c-9de5ea12b71a"
      },
      "source": [
        "# np.hstack은 height 방향의 배열을 풀어서 width 방향으로 연결해줍니다.\n",
        "# 해당 기능을 쓰면 (height, image_height, image_width)의 shape을 (image_height, image_width * height)으로 바꿔 줄 수 있습니다.\n",
        "# 코드를 작성해보세요.\n",
        "np.hstack(train_images[:5]).shape"
      ],
      "execution_count": 28,
      "outputs": [
        {
          "output_type": "execute_result",
          "data": {
            "text/plain": [
              "(28, 140)"
            ]
          },
          "metadata": {},
          "execution_count": 28
        }
      ]
    },
    {
      "cell_type": "markdown",
      "metadata": {
        "id": "xqyaO-5bk-sj"
      },
      "source": [
        "### 문제 13. np.hstack은 tensorflow에서 제공하는 방법이 아니므로 transpose 함수를 이용하여 (28, 28 * 5)로 shape을 변경해보세요."
      ]
    },
    {
      "cell_type": "code",
      "metadata": {
        "id": "SqmKdjlGlqLJ",
        "colab": {
          "base_uri": "https://localhost:8080/"
        },
        "outputId": "9419f4e5-d1bf-4c59-8af5-f2009706a2e3"
      },
      "source": [
        "# transpose는 tensor의 axis를 섞는 기능을 합니다.\n",
        "# 해당 기능을 이용해서 (28, 140)을 작성하는 코드를 작성해보세요.\n",
        "#(train_images[:5].transpose((0,1,2)) == train_images[:5]).all()\n",
        "train_images[:5].transpose((1,0,2)).reshape((28,-1)).shape"
      ],
      "execution_count": 29,
      "outputs": [
        {
          "output_type": "execute_result",
          "data": {
            "text/plain": [
              "(28, 140)"
            ]
          },
          "metadata": {},
          "execution_count": 29
        }
      ]
    },
    {
      "cell_type": "markdown",
      "metadata": {
        "id": "T0oaToP6l0Pd"
      },
      "source": [
        "### 문제 14. (28, 140)이 된 tensor를 plt로 출력해보세요."
      ]
    },
    {
      "cell_type": "code",
      "metadata": {
        "id": "ToUpk3oBmIr1",
        "colab": {
          "base_uri": "https://localhost:8080/",
          "height": 182
        },
        "outputId": "124d350b-a336-45a6-de54-38d74702c314"
      },
      "source": [
        "# (28, 140)의 이미지를 plt로 출력해보세요.\n",
        "plt.imshow(np.hstack(train_images[:5]))"
      ],
      "execution_count": 30,
      "outputs": [
        {
          "output_type": "execute_result",
          "data": {
            "text/plain": [
              "<matplotlib.image.AxesImage at 0x7dcfc32d52a0>"
            ]
          },
          "metadata": {},
          "execution_count": 30
        },
        {
          "output_type": "display_data",
          "data": {
            "text/plain": [
              "<Figure size 640x480 with 1 Axes>"
            ],
            "image/png": "[encoded data removed]"
          },
          "metadata": {}
        }
      ]
    },
    {
      "cell_type": "code",
      "metadata": {
        "id": "TZAF8OlW1HsT",
        "colab": {
          "base_uri": "https://localhost:8080/",
          "height": 182
        },
        "outputId": "a467dd77-8e62-4129-ceb2-c0df81a5b2a8"
      },
      "source": [
        "# 레이블에 따라 5개를 출력하는 함수를 만들어보세요.\n",
        "#np.argwhere( train_labels == 0)[:5, ...,0]\n",
        "\n",
        "plt.imshow(train_images[np.argwhere( train_labels == 0)[:5, ...,0]].transpose((1,0,2)).reshape((28,-1)))"
      ],
      "execution_count": 31,
      "outputs": [
        {
          "output_type": "execute_result",
          "data": {
            "text/plain": [
              "<matplotlib.image.AxesImage at 0x7dcfc341f040>"
            ]
          },
          "metadata": {},
          "execution_count": 31
        },
        {
          "output_type": "display_data",
          "data": {
            "text/plain": [
              "<Figure size 640x480 with 1 Axes>"
            ],
            "image/png": "[encoded data removed]"
          },
          "metadata": {}
        }
      ]
    },
    {
      "cell_type": "code",
      "source": [
        "def filter(label, count = 5):\n",
        "    imgs = train_images[np.argwhere( train_labels == label)[:count, ...,0]].transpose((1,0,2)).reshape((28,-1))\n",
        "    plt.imshow(imgs)\n",
        "    plt.show()"
      ],
      "metadata": {
        "id": "n-jDmhTrMBsR"
      },
      "execution_count": 32,
      "outputs": []
    },
    {
      "cell_type": "code",
      "source": [
        "filter(9,10)"
      ],
      "metadata": {
        "colab": {
          "base_uri": "https://localhost:8080/",
          "height": 114
        },
        "id": "mr_igQWWMR7H",
        "outputId": "d515dfdf-fda6-45a9-9244-472983aba9ef"
      },
      "execution_count": 33,
      "outputs": [
        {
          "output_type": "display_data",
          "data": {
            "text/plain": [
              "<Figure size 640x480 with 1 Axes>"
            ],
            "image/png": "[encoded data removed]"
          },
          "metadata": {}
        }
      ]
    },
    {
      "cell_type": "markdown",
      "metadata": {
        "id": "Kz3kWteP8Kap"
      },
      "source": [
        "## Step 4. Data augmentation - 이미지 확대 및 다객체 추가 방법 ##\n",
        "###  Filp, Rotation,Scale, Crop, etc를 취했을때(변형을 줬을때) 사람과 달리 딥러닝은 픽셀로 인식하기에 다 다른 이미지라고 본다. ###"
      ]
    },
    {
      "cell_type": "markdown",
      "metadata": {
        "id": "fesKKJqio--a"
      },
      "source": [
        "### 문제 15. 이미지 한장의 크기를 4배로 확대하고, 객체는 4분면 영역중 랜덤으로 1공간에 넣는 함수를 작성하여보세요."
      ]
    },
    {
      "cell_type": "code",
      "metadata": {
        "id": "Jsmh1keWpODx"
      },
      "source": [
        "# 이미지 한장의 크기를 4배로 확대하고, 객체는 4분면 영역중 랜덤으로 1공간에 넣는 함수를 작성하여보세요.\n",
        "def expand_4times(img):\n",
        "    bg = np.zeros(img.shape)\n",
        "    idx = np.random.randint(0,4)\n",
        "\n",
        "    slots = [bg,bg,bg,bg]\n",
        "    slots[idx] = img\n",
        "    expanded = np.vstack([\n",
        "        np.hstack(slots[:2]),\n",
        "        np.hstack(slots[2:])\n",
        "    ])\n",
        "    return expanded"
      ],
      "execution_count": 34,
      "outputs": []
    },
    {
      "cell_type": "code",
      "source": [
        "plt.imshow(expand_4times(train_images[1]))"
      ],
      "metadata": {
        "colab": {
          "base_uri": "https://localhost:8080/",
          "height": 451
        },
        "id": "TG6Y2pxKQUfm",
        "outputId": "d07355c7-5f88-45fe-ecff-34bda20ebf6d"
      },
      "execution_count": 35,
      "outputs": [
        {
          "output_type": "execute_result",
          "data": {
            "text/plain": [
              "<matplotlib.image.AxesImage at 0x7dcfc8960a60>"
            ]
          },
          "metadata": {},
          "execution_count": 35
        },
        {
          "output_type": "display_data",
          "data": {
            "text/plain": [
              "<Figure size 640x480 with 1 Axes>"
            ],
            "image/png": "[encoded data removed]"
          },
          "metadata": {}
        }
      ]
    },
    {
      "cell_type": "markdown",
      "metadata": {
        "id": "LW3qolQPtpCA"
      },
      "source": [
        "### 문제 16. 4배 이미지 변환을 전체 train/test 데이터에 실행하여 train_expand_images, test_expand_images를 생성하세요."
      ]
    },
    {
      "cell_type": "code",
      "metadata": {
        "id": "lUNMTYsTt4RX"
      },
      "source": [
        "# 4배 이미지 변환을 전체 train/test 데이터에 실행하여 train_expend_images, test_expend_images를 생성하세요.\n",
        "train_expand_images = np.array([expand_4times(img) for img in train_images])\n",
        "test_expand_images = np.array([expand_4times(img) for img in test_images])"
      ],
      "execution_count": 36,
      "outputs": []
    },
    {
      "cell_type": "code",
      "source": [
        "test_expand_images.shape, train_expand_images.shape"
      ],
      "metadata": {
        "colab": {
          "base_uri": "https://localhost:8080/"
        },
        "id": "KEqrhU2VTIUd",
        "outputId": "11d522c8-e993-4b2c-a151-7e8d158da207"
      },
      "execution_count": 37,
      "outputs": [
        {
          "output_type": "execute_result",
          "data": {
            "text/plain": [
              "((10000, 56, 56), (60000, 56, 56))"
            ]
          },
          "metadata": {},
          "execution_count": 37
        }
      ]
    },
    {
      "cell_type": "markdown",
      "metadata": {
        "id": "_1NMpB6LqIB5"
      },
      "source": [
        "### 문제 17. 4배 이미지 변환 함수를 수정하여 이미지 사이즈를 4배 확대 시킨 뒤, 객체를 랜덤으로 0~4개, 랜덤 4분면에 위치시키는 함수를 작성하세요."
      ]
    },
    {
      "cell_type": "code",
      "metadata": {
        "id": "U9-NlbEhqhCx"
      },
      "source": [
        "# 4배 이미지 변환 함수를 수정하여 이미지 사이즈를 4배 확대 시킨 뒤, 객체를 랜덤으로 1~4개, 랜덤 4분면에 위치시키는 함수를 작성하세요.\n",
        "def expand_4times2(x_data,y_data):\n",
        "    images = []\n",
        "    labels = []\n",
        "\n",
        "    for _ in range(4):\n",
        "        bg = np.zeros((28,28))\n",
        "        obj_count = np.random.randint(0,5)\n",
        "\n",
        "        label = np.zeros((10,))\n",
        "        slots = [bg,bg,bg,bg]\n",
        "\n",
        "        for idx in range(obj_count):\n",
        "            i = np.random.randint(len(x_data))\n",
        "            slots[idx] = x_data[i]\n",
        "            label += tf.keras.utils.to_categorical(y_data[i],10)\n",
        "\n",
        "        np.random.shuffle(slots)\n",
        "\n",
        "    new_img = np.vstack([\n",
        "                            np.hstack(slots[:2]),\n",
        "                            np.hstack(slots[2:])\n",
        "    ])\n",
        "    images.append(new_img)\n",
        "    labels.append((label >= 1).astype(np.int))\n",
        "\n",
        "    return np.array(images), np.array(labels)"
      ],
      "execution_count": 38,
      "outputs": []
    },
    {
      "cell_type": "code",
      "source": [
        "plt.imshow(expand_4times2(train_images,train_labels)[0][0])"
      ],
      "metadata": {
        "colab": {
          "base_uri": "https://localhost:8080/",
          "height": 451
        },
        "id": "RVsjp1GtX_7A",
        "outputId": "df02b0b5-e546-4d93-b7f7-13246af2710b"
      },
      "execution_count": 39,
      "outputs": [
        {
          "output_type": "execute_result",
          "data": {
            "text/plain": [
              "<matplotlib.image.AxesImage at 0x7dcfc87d61a0>"
            ]
          },
          "metadata": {},
          "execution_count": 39
        },
        {
          "output_type": "display_data",
          "data": {
            "text/plain": [
              "<Figure size 640x480 with 1 Axes>"
            ],
            "image/png": "[encoded data removed]"
          },
          "metadata": {}
        }
      ]
    },
    {
      "cell_type": "code",
      "source": [
        "expand_4times2(train_images, train_labels)[1]"
      ],
      "metadata": {
        "colab": {
          "base_uri": "https://localhost:8080/"
        },
        "id": "g-WThDigvc3L",
        "outputId": "4fe9d46b-063a-44ec-8423-905718ae1d61"
      },
      "execution_count": 40,
      "outputs": [
        {
          "output_type": "execute_result",
          "data": {
            "text/plain": [
              "array([[0, 1, 0, 0, 1, 1, 1, 0, 0, 0]])"
            ]
          },
          "metadata": {},
          "execution_count": 40
        }
      ]
    },
    {
      "cell_type": "markdown",
      "metadata": {
        "id": "JLSYLZr0qvGI"
      },
      "source": [
        "### 문제 18. 4배 이미지 변환을 전체 train/test 데이터에 실행하여 train_multi_images, test_multi_images, train_multi_labels, train_multi_labels를 생성하세요."
      ]
    },
    {
      "cell_type": "code",
      "metadata": {
        "id": "EsgmHRFSrDX4"
      },
      "source": [
        "# 4배 이미지 변환을 전체 train/test 데이터에 실행하여 train_multi_images, test_multi_images, train_multi_labels, train_multi_labels를 생성하세요.\n",
        "train_multi_images, train_multi_labels = list(zip(*[expand_4times2(train_images,train_labels) for i in train_images]))\n",
        "test_multi_images, test_multi_labels = list(zip(*[expand_4times2(test_images,test_labels) for i in test_images]))"
      ],
      "execution_count": 41,
      "outputs": []
    },
    {
      "cell_type": "code",
      "source": [
        "#np.array(train_multi_images).shape\n",
        "train_multi_images = np.array(train_multi_images)[:,0,:,:].reshape(-1,56,56,1)\n",
        "train_multi_labels = np.array(train_multi_labels)[:,0,:]\n",
        "\n",
        "test_multi_images = np.array(test_multi_images)[:,0,:,:].reshape(-1,56,56,1)\n",
        "test_multi_labels = np.array(test_multi_labels)[:,0,:]"
      ],
      "metadata": {
        "id": "paD6J3OExWXV"
      },
      "execution_count": 42,
      "outputs": []
    },
    {
      "cell_type": "code",
      "source": [
        "print(train_multi_images.shape, train_multi_labels.shape)\n",
        "print(test_multi_images.shape, test_multi_labels.shape)"
      ],
      "metadata": {
        "colab": {
          "base_uri": "https://localhost:8080/"
        },
        "id": "auzTvhMpyWMj",
        "outputId": "e6d06d7a-7216-4073-f0aa-ceeb9808c23f"
      },
      "execution_count": 43,
      "outputs": [
        {
          "output_type": "stream",
          "name": "stdout",
          "text": [
            "(60000, 56, 56, 1) (60000, 10)\n",
            "(10000, 56, 56, 1) (10000, 10)\n"
          ]
        }
      ]
    },
    {
      "cell_type": "code",
      "metadata": {
        "id": "fMLeRs675OLf"
      },
      "source": [
        "# 개수에 따라 연속된 그림을 보여주는 함수를 작성해보세요\n",
        "def filter2(obj_count, count = 5):\n",
        "    labels = train_multi_labels.sum(axis=1)\n",
        "    ids = np.argwhere( labels == obj_count)[:count,0]\n",
        "\n",
        "    imgs = train_multi_images[ids][...,0].transpose((1,0,2)).reshape((56,-1))\n",
        "    plt.imshow(imgs)\n",
        "    plt.show()"
      ],
      "execution_count": 44,
      "outputs": []
    },
    {
      "cell_type": "code",
      "source": [
        "filter2(1,5)"
      ],
      "metadata": {
        "colab": {
          "base_uri": "https://localhost:8080/",
          "height": 164
        },
        "id": "VP07IioI2qbI",
        "outputId": "1d5daf80-16da-408c-f024-f8297093270f"
      },
      "execution_count": 45,
      "outputs": [
        {
          "output_type": "display_data",
          "data": {
            "text/plain": [
              "<Figure size 640x480 with 1 Axes>"
            ],
            "image/png": "[encoded data removed]"
          },
          "metadata": {}
        }
      ]
    },
    {
      "cell_type": "markdown",
      "metadata": {
        "id": "nWy8FKR1AYJU"
      },
      "source": [
        "### 문제 19. multi labels와 train_labels의 값의 형태를 비교해보세요."
      ]
    },
    {
      "cell_type": "code",
      "metadata": {
        "id": "ENpSWYu_stHp",
        "colab": {
          "base_uri": "https://localhost:8080/"
        },
        "outputId": "b4da87eb-89d6-4276-ccc1-39f4134182f1"
      },
      "source": [
        "# multi labels와 train_labels의 값의 형태를 비교해보세요.\n",
        "train_labels[0]"
      ],
      "execution_count": 46,
      "outputs": [
        {
          "output_type": "execute_result",
          "data": {
            "text/plain": [
              "9"
            ]
          },
          "metadata": {},
          "execution_count": 46
        }
      ]
    },
    {
      "cell_type": "code",
      "source": [
        "tf.keras.utils.to_categorical(train_labels[0],10)"
      ],
      "metadata": {
        "colab": {
          "base_uri": "https://localhost:8080/"
        },
        "id": "V1TK9TEq3h-9",
        "outputId": "fd2c13c5-bafe-4f40-8ec2-cfa645519327"
      },
      "execution_count": 47,
      "outputs": [
        {
          "output_type": "execute_result",
          "data": {
            "text/plain": [
              "array([0., 0., 0., 0., 0., 0., 0., 0., 0., 1.], dtype=float32)"
            ]
          },
          "metadata": {},
          "execution_count": 47
        }
      ]
    },
    {
      "cell_type": "code",
      "source": [
        "train_multi_labels[5]"
      ],
      "metadata": {
        "colab": {
          "base_uri": "https://localhost:8080/"
        },
        "id": "3NRshYIN3iFR",
        "outputId": "28974790-dc06-47d3-8ff3-360c3b32e220"
      },
      "execution_count": 48,
      "outputs": [
        {
          "output_type": "execute_result",
          "data": {
            "text/plain": [
              "array([0, 0, 0, 0, 0, 0, 0, 0, 0, 0])"
            ]
          },
          "metadata": {},
          "execution_count": 48
        }
      ]
    },
    {
      "cell_type": "markdown",
      "metadata": {
        "id": "_QLtKR5LafGc"
      },
      "source": [
        "### 문제 20. train_labels에서 label들의 분포를 구해보세요."
      ]
    },
    {
      "cell_type": "code",
      "metadata": {
        "id": "1EFMt2SKafGc",
        "colab": {
          "base_uri": "https://localhost:8080/",
          "height": 449
        },
        "outputId": "5368b7d8-1de8-4c17-967b-6e1a12b602bd"
      },
      "source": [
        "# 문제 20. train_labels에서 label들의 분포를 히스토그램으로 구해보세요.\n",
        "plt.bar([0,1,2,3,4,5,6,7,8,9],tf.keras.utils.to_categorical(train_labels).sum(axis=0))"
      ],
      "execution_count": 49,
      "outputs": [
        {
          "output_type": "execute_result",
          "data": {
            "text/plain": [
              "<BarContainer object of 10 artists>"
            ]
          },
          "metadata": {},
          "execution_count": 49
        },
        {
          "output_type": "display_data",
          "data": {
            "text/plain": [
              "<Figure size 640x480 with 1 Axes>"
            ],
            "image/png": "[encoded data removed]"
          },
          "metadata": {}
        }
      ]
    },
    {
      "cell_type": "markdown",
      "metadata": {
        "id": "fTvy4VmfYFM5"
      },
      "source": [
        "### 문제 21. multi labels에서 label들의 분포와  multi images에서 평균 사진 개수 분포를 구하세요."
      ]
    },
    {
      "cell_type": "code",
      "metadata": {
        "id": "IFzHUcyBB84T",
        "colab": {
          "base_uri": "https://localhost:8080/",
          "height": 449
        },
        "outputId": "12956389-7a16-42ff-9194-39ef1129834d"
      },
      "source": [
        "# 문제 21. multi labels에서 label들의 분포를 히스토그램으로 구해보세요.\n",
        "plt.bar([0,1,2,3,4,5,6,7,8,9],train_multi_labels.sum(axis=0))"
      ],
      "execution_count": 50,
      "outputs": [
        {
          "output_type": "execute_result",
          "data": {
            "text/plain": [
              "<BarContainer object of 10 artists>"
            ]
          },
          "metadata": {},
          "execution_count": 50
        },
        {
          "output_type": "display_data",
          "data": {
            "text/plain": [
              "<Figure size 640x480 with 1 Axes>"
            ],
            "image/png": "[encoded data removed]"
          },
          "metadata": {}
        }
      ]
    },
    {
      "cell_type": "code",
      "metadata": {
        "id": "rqYMbI6jyPkn",
        "colab": {
          "base_uri": "https://localhost:8080/",
          "height": 506
        },
        "outputId": "e4102820-5d86-424b-fe60-7fc3a9e53609"
      },
      "source": [
        "# 문제 22. multi images에서 평균 사진 개수 분포를 구하세요\n",
        "plt.hist(train_multi_labels.sum(axis=1))"
      ],
      "execution_count": 51,
      "outputs": [
        {
          "output_type": "execute_result",
          "data": {
            "text/plain": [
              "(array([12060.,     0., 13295.,     0.,     0., 14899.,     0., 13666.,\n",
              "            0.,  6080.]),\n",
              " array([0. , 0.4, 0.8, 1.2, 1.6, 2. , 2.4, 2.8, 3.2, 3.6, 4. ]),\n",
              " <BarContainer object of 10 artists>)"
            ]
          },
          "metadata": {},
          "execution_count": 51
        },
        {
          "output_type": "display_data",
          "data": {
            "text/plain": [
              "<Figure size 640x480 with 1 Axes>"
            ],
            "image/png": "[encoded data removed]"
          },
          "metadata": {}
        }
      ]
    },
    {
      "cell_type": "markdown",
      "metadata": {
        "id": "z67dTPu0xJSu"
      },
      "source": [
        "## Step 5. 모델링"
      ]
    },
    {
      "cell_type": "markdown",
      "metadata": {
        "id": "20iJHg2gXrC2"
      },
      "source": [
        "### 문제 22. train_expand_images, train_labels로 초벌 모델을 생성해보세요."
      ]
    },
    {
      "cell_type": "code",
      "metadata": {
        "id": "1Q1XtFoxX0eN"
      },
      "source": [
        "# train_expand_images, train_labels로 싱글 label을 처리하는 image classification 초벌 모델을 생성해보세요.\n",
        "from keras.layers import Input, Conv2D, MaxPool2D, Dropout, Flatten, GlobalAveragePooling2D\n",
        "from keras.models import Model\n",
        "\n",
        "def single_fashin_mnist_model():\n",
        "    inputs = Input((56,56,1))\n",
        "    x = Conv2D(16,2,padding='same', activation='relu')(inputs)\n",
        "    x = MaxPool2D(2)(x)\n",
        "    x = Dropout(0.3)(x)\n",
        "\n",
        "    x = Conv2D(32,2,padding='same', activation='relu')(x)\n",
        "    x = MaxPool2D(2)(x)\n",
        "    x = Dropout(0.3)(x)\n",
        "\n",
        "    x = Conv2D(64,2,padding='same', activation='relu')(x)\n",
        "    x = MaxPool2D(2)(x)\n",
        "    x = Flatten()(x)\n",
        "    x = Dense(10,activation='softmax')(x)\n",
        "    return Model(inputs, x)\n"
      ],
      "execution_count": 52,
      "outputs": []
    },
    {
      "cell_type": "code",
      "source": [
        "def single_fashin_mnist_model2():\n",
        "    inputs = Input((56,56,1))\n",
        "    x = Conv2D(16,2,padding='same', activation='relu')(inputs)\n",
        "    x = MaxPool2D(2)(x)\n",
        "    x = Dropout(0.3)(x)\n",
        "\n",
        "    x = Conv2D(32,2,padding='same', activation='relu')(x)\n",
        "    x = MaxPool2D(2)(x)\n",
        "    x = Dropout(0.3)(x)\n",
        "\n",
        "    x = Conv2D(64,2,padding='same', activation='relu')(x)\n",
        "    x = MaxPool2D(2)(x)\n",
        "    x = GlobalAveragePooling2D()(x)\n",
        "    x = Dense(10,activation='softmax')(x)\n",
        "    return Model(inputs, x)"
      ],
      "metadata": {
        "id": "DQNa31YP8YNI"
      },
      "execution_count": 53,
      "outputs": []
    },
    {
      "cell_type": "markdown",
      "metadata": {
        "id": "zeALYpCGjHlJ"
      },
      "source": [
        "### 문제 23. 모델을 할당 받고 서머리를 출력해보세요."
      ]
    },
    {
      "cell_type": "code",
      "metadata": {
        "id": "Tc4Xiq7IjVaI",
        "colab": {
          "base_uri": "https://localhost:8080/"
        },
        "outputId": "bc8d5002-bffd-4571-9a06-1e3a4afe4f04"
      },
      "source": [
        "# single_fashin_mnist_model() 모델을 할당 받고 서머리를 출력하는 코드를 작성하세요.\n",
        "model = single_fashin_mnist_model()\n",
        "model.summary()"
      ],
      "execution_count": 54,
      "outputs": [
        {
          "output_type": "stream",
          "name": "stdout",
          "text": [
            "Model: \"model\"\n",
            "_________________________________________________________________\n",
            " Layer (type)                Output Shape              Param #   \n",
            "=================================================================\n",
            " input_1 (InputLayer)        [(None, 56, 56, 1)]       0         \n",
            "                                                                 \n",
            " conv2d (Conv2D)             (None, 56, 56, 16)        80        \n",
            "                                                                 \n",
            " max_pooling2d (MaxPooling2  (None, 28, 28, 16)        0         \n",
            " D)                                                              \n",
            "                                                                 \n",
            " dropout (Dropout)           (None, 28, 28, 16)        0         \n",
            "                                                                 \n",
            " conv2d_1 (Conv2D)           (None, 28, 28, 32)        2080      \n",
            "                                                                 \n",
            " max_pooling2d_1 (MaxPoolin  (None, 14, 14, 32)        0         \n",
            " g2D)                                                            \n",
            "                                                                 \n",
            " dropout_1 (Dropout)         (None, 14, 14, 32)        0         \n",
            "                                                                 \n",
            " conv2d_2 (Conv2D)           (None, 14, 14, 64)        8256      \n",
            "                                                                 \n",
            " max_pooling2d_2 (MaxPoolin  (None, 7, 7, 64)          0         \n",
            " g2D)                                                            \n",
            "                                                                 \n",
            " flatten (Flatten)           (None, 3136)              0         \n",
            "                                                                 \n",
            " dense (Dense)               (None, 10)                31370     \n",
            "                                                                 \n",
            "=================================================================\n",
            "Total params: 41786 (163.23 KB)\n",
            "Trainable params: 41786 (163.23 KB)\n",
            "Non-trainable params: 0 (0.00 Byte)\n",
            "_________________________________________________________________\n"
          ]
        }
      ]
    },
    {
      "cell_type": "code",
      "source": [
        "model = single_fashin_mnist_model2()\n",
        "model.summary()"
      ],
      "metadata": {
        "colab": {
          "base_uri": "https://localhost:8080/"
        },
        "id": "eLmOEQtv8uNQ",
        "outputId": "55863741-193b-4e04-fd8f-49b5b8b2db03"
      },
      "execution_count": 55,
      "outputs": [
        {
          "output_type": "stream",
          "name": "stdout",
          "text": [
            "Model: \"model_1\"\n",
            "_________________________________________________________________\n",
            " Layer (type)                Output Shape              Param #   \n",
            "=================================================================\n",
            " input_2 (InputLayer)        [(None, 56, 56, 1)]       0         \n",
            "                                                                 \n",
            " conv2d_3 (Conv2D)           (None, 56, 56, 16)        80        \n",
            "                                                                 \n",
            " max_pooling2d_3 (MaxPoolin  (None, 28, 28, 16)        0         \n",
            " g2D)                                                            \n",
            "                                                                 \n",
            " dropout_2 (Dropout)         (None, 28, 28, 16)        0         \n",
            "                                                                 \n",
            " conv2d_4 (Conv2D)           (None, 28, 28, 32)        2080      \n",
            "                                                                 \n",
            " max_pooling2d_4 (MaxPoolin  (None, 14, 14, 32)        0         \n",
            " g2D)                                                            \n",
            "                                                                 \n",
            " dropout_3 (Dropout)         (None, 14, 14, 32)        0         \n",
            "                                                                 \n",
            " conv2d_5 (Conv2D)           (None, 14, 14, 64)        8256      \n",
            "                                                                 \n",
            " max_pooling2d_5 (MaxPoolin  (None, 7, 7, 64)          0         \n",
            " g2D)                                                            \n",
            "                                                                 \n",
            " global_average_pooling2d (  (None, 64)                0         \n",
            " GlobalAveragePooling2D)                                         \n",
            "                                                                 \n",
            " dense_1 (Dense)             (None, 10)                650       \n",
            "                                                                 \n",
            "=================================================================\n",
            "Total params: 11066 (43.23 KB)\n",
            "Trainable params: 11066 (43.23 KB)\n",
            "Non-trainable params: 0 (0.00 Byte)\n",
            "_________________________________________________________________\n"
          ]
        }
      ]
    },
    {
      "cell_type": "markdown",
      "metadata": {
        "id": "PkOrDR1yam4a"
      },
      "source": [
        "### 문제 24. 만든 모델에 로스와 옵티마이저, 메트릭을 설정하세요."
      ]
    },
    {
      "cell_type": "code",
      "metadata": {
        "id": "nufi0CMyazsF"
      },
      "source": [
        "# 만든 모델에 loss는 categorical_crossentropy, optimizer는 adam 매트릭은 accuracy으로 설정하는 코드를 작성하세요.\n",
        "model.compile(loss=\"categorical_crossentropy\", optimizer=\"adam\", metrics=['accuracy'])"
      ],
      "execution_count": 56,
      "outputs": []
    },
    {
      "cell_type": "code",
      "source": [
        "train_expand_images.shape"
      ],
      "metadata": {
        "colab": {
          "base_uri": "https://localhost:8080/"
        },
        "id": "sJC-FBq9-Pub",
        "outputId": "cc89f499-8813-489a-bd17-aa0c3a51dd8a"
      },
      "execution_count": 57,
      "outputs": [
        {
          "output_type": "execute_result",
          "data": {
            "text/plain": [
              "(60000, 56, 56)"
            ]
          },
          "metadata": {},
          "execution_count": 57
        }
      ]
    },
    {
      "cell_type": "markdown",
      "metadata": {
        "id": "IZRqZC50ZoaE"
      },
      "source": [
        "### 문제 25. 만든 모델에 train_expand_images를 학습시켜 보세요."
      ]
    },
    {
      "cell_type": "code",
      "metadata": {
        "id": "PtpJp3fmaRuA",
        "colab": {
          "base_uri": "https://localhost:8080/"
        },
        "outputId": "71fe75f2-4dbf-40ee-d004-2388fe276f05"
      },
      "source": [
        "# train_expand_images, train_labels을 학습시키고 15 epochs을 돌리고 그 진행 사항을 hist에 저장하는 코드를 작성하세요.\n",
        "hist = model.fit(train_expand_images.reshape((-1,56,56,1)),\n",
        "                 tf.keras.utils.to_categorical(train_labels,10),\n",
        "                 validation_data = (test_expand_images.reshape((-1,56,56,1)) ,tf.keras.utils.to_categorical(test_labels,10)),\n",
        "                                    epochs = 15,\n",
        "                                    verbose = 1\n",
        "                 )"
      ],
      "execution_count": 58,
      "outputs": [
        {
          "output_type": "stream",
          "name": "stdout",
          "text": [
            "Epoch 1/15\n",
            "1875/1875 [==============================] - 16s 5ms/step - loss: 1.4003 - accuracy: 0.4864 - val_loss: 1.0953 - val_accuracy: 0.5998\n",
            "Epoch 2/15\n",
            "1875/1875 [==============================] - 9s 5ms/step - loss: 0.9820 - accuracy: 0.6474 - val_loss: 0.9284 - val_accuracy: 0.6535\n",
            "Epoch 3/15\n",
            "1875/1875 [==============================] - 9s 5ms/step - loss: 0.8550 - accuracy: 0.6925 - val_loss: 0.7785 - val_accuracy: 0.7234\n",
            "Epoch 4/15\n",
            "1875/1875 [==============================] - 8s 4ms/step - loss: 0.7754 - accuracy: 0.7196 - val_loss: 0.7336 - val_accuracy: 0.7336\n",
            "Epoch 5/15\n",
            "1875/1875 [==============================] - 9s 5ms/step - loss: 0.7242 - accuracy: 0.7386 - val_loss: 0.6766 - val_accuracy: 0.7576\n",
            "Epoch 6/15\n",
            "1875/1875 [==============================] - 10s 5ms/step - loss: 0.6825 - accuracy: 0.7528 - val_loss: 0.6462 - val_accuracy: 0.7733\n",
            "Epoch 7/15\n",
            "1875/1875 [==============================] - 9s 5ms/step - loss: 0.6509 - accuracy: 0.7648 - val_loss: 0.6166 - val_accuracy: 0.7798\n",
            "Epoch 8/15\n",
            "1875/1875 [==============================] - 9s 5ms/step - loss: 0.6250 - accuracy: 0.7748 - val_loss: 0.6034 - val_accuracy: 0.7877\n",
            "Epoch 9/15\n",
            "1875/1875 [==============================] - 9s 5ms/step - loss: 0.6071 - accuracy: 0.7818 - val_loss: 0.5606 - val_accuracy: 0.8014\n",
            "Epoch 10/15\n",
            "1875/1875 [==============================] - 10s 5ms/step - loss: 0.5882 - accuracy: 0.7871 - val_loss: 0.5366 - val_accuracy: 0.8052\n",
            "Epoch 11/15\n",
            "1875/1875 [==============================] - 9s 5ms/step - loss: 0.5734 - accuracy: 0.7933 - val_loss: 0.5280 - val_accuracy: 0.8123\n",
            "Epoch 12/15\n",
            "1875/1875 [==============================] - 8s 4ms/step - loss: 0.5529 - accuracy: 0.8025 - val_loss: 0.5168 - val_accuracy: 0.8161\n",
            "Epoch 13/15\n",
            "1875/1875 [==============================] - 9s 5ms/step - loss: 0.5423 - accuracy: 0.8043 - val_loss: 0.4975 - val_accuracy: 0.8276\n",
            "Epoch 14/15\n",
            "1875/1875 [==============================] - 10s 5ms/step - loss: 0.5326 - accuracy: 0.8091 - val_loss: 0.4859 - val_accuracy: 0.8281\n",
            "Epoch 15/15\n",
            "1875/1875 [==============================] - 8s 4ms/step - loss: 0.5196 - accuracy: 0.8137 - val_loss: 0.4812 - val_accuracy: 0.8297\n"
          ]
        }
      ]
    },
    {
      "cell_type": "markdown",
      "metadata": {
        "id": "hU3-Lm7Ma_97"
      },
      "source": [
        "### 문제 26. 학습 진행 사항을 출력하세요."
      ]
    },
    {
      "cell_type": "code",
      "metadata": {
        "id": "B6pKz5o3bPIT",
        "colab": {
          "base_uri": "https://localhost:8080/",
          "height": 430
        },
        "outputId": "1d31ca44-46ee-489d-af58-0396d9fba465"
      },
      "source": [
        "# hist의 accuracy plt의 plot을 이용하여 출력하는 코드를 작성하세요.\n",
        "plt.plot(hist.history['accuracy'],label = 'accuracy')\n",
        "plt.plot(hist.history['loss'],label = 'loss')\n",
        "plt.plot(hist.history['val_accuracy'],label = 'val_accuracy')\n",
        "plt.plot(hist.history['val_loss'],label = 'val_loss')\n",
        "plt.legend(loc='upper right')\n",
        "plt.show()"
      ],
      "execution_count": 59,
      "outputs": [
        {
          "output_type": "display_data",
          "data": {
            "text/plain": [
              "<Figure size 640x480 with 1 Axes>"
            ],
            "image/png": "[encoded data removed]"
          },
          "metadata": {}
        }
      ]
    },
    {
      "cell_type": "markdown",
      "metadata": {
        "id": "NLdXvBcvDYkm"
      },
      "source": [
        "## Step 6. 결과 확인"
      ]
    },
    {
      "cell_type": "markdown",
      "metadata": {
        "id": "J6nvDS4yOSCD"
      },
      "source": [
        "### 문제 27. 완성된 모델에서 test_expand_images를 1장 넣고 결과를 res 변수에 저정하세요."
      ]
    },
    {
      "cell_type": "code",
      "metadata": {
        "id": "uKFAu5z4QRjR",
        "colab": {
          "base_uri": "https://localhost:8080/"
        },
        "outputId": "c87d4764-2e55-4274-a36a-efa27e9e4fbf"
      },
      "source": [
        "# 모델에  test_expand_images 중 1장을 넣고 결과를 받는 코드를 작성하세요.\n",
        "res = model.predict(test_expand_images[0].reshape(1, 56, 56, 1))\n",
        "res.shape"
      ],
      "execution_count": 60,
      "outputs": [
        {
          "output_type": "stream",
          "name": "stdout",
          "text": [
            "1/1 [==============================] - 0s 171ms/step\n"
          ]
        },
        {
          "output_type": "execute_result",
          "data": {
            "text/plain": [
              "(1, 10)"
            ]
          },
          "metadata": {},
          "execution_count": 60
        }
      ]
    },
    {
      "cell_type": "markdown",
      "metadata": {
        "id": "r-U6Uo2d3cFv"
      },
      "source": [
        "### 문제 28. res의 결과와 실제 label을 비교하고 test_exnpand_images[0]을 plt로 출력하세요."
      ]
    },
    {
      "cell_type": "code",
      "metadata": {
        "id": "E8kp1YTf3kfP",
        "colab": {
          "base_uri": "https://localhost:8080/",
          "height": 449
        },
        "outputId": "45e1a83a-e42f-48db-a21f-a7b324aa6fb2"
      },
      "source": [
        "# res의 결과와 실제 label을 비교하고 test_exnpand_images[0]을 plt로 출력하세요.\n",
        "plt.bar(np.arange(0,10),tf.keras.utils.to_categorical(test_labels[0],10),color='black')\n",
        "plt.show()\n",
        "idx2label(test_labels[0])"
      ],
      "execution_count": 61,
      "outputs": [
        {
          "output_type": "display_data",
          "data": {
            "text/plain": [
              "<Figure size 640x480 with 1 Axes>"
            ],
            "image/png": "[encoded data removed]"
          },
          "metadata": {}
        },
        {
          "output_type": "execute_result",
          "data": {
            "text/plain": [
              "'Ankle boot'"
            ],
            "application/vnd.google.colaboratory.intrinsic+json": {
              "type": "string"
            }
          },
          "metadata": {},
          "execution_count": 61
        }
      ]
    },
    {
      "cell_type": "markdown",
      "metadata": {
        "id": "asN220f5D37P"
      },
      "source": [
        "## Step 7. 멀티 레이블 모델링"
      ]
    },
    {
      "cell_type": "markdown",
      "metadata": {
        "id": "om4GrvBdwNe1"
      },
      "source": [
        "### 문제 29. train_multi_images 와 train_multi_labels를 처리 할 수 있는 모델을 작성하세요."
      ]
    },
    {
      "cell_type": "code",
      "metadata": {
        "id": "UrxLmr-EwaDE"
      },
      "source": [
        "# 기존 모델의 마지막 layer에 변환을 줘서 multi labels을 처리할 수 있는 모델을 작성하세요.\n",
        "def multi_fashion_mnist_model(model):\n",
        "    # weight 수정 x\n",
        "    model.trainable = False\n",
        "    x = model.layers[-2].output\n",
        "    x = Dense(10,activation='sigmoid')(x)\n",
        "    return Model(model.input,x)\n"
      ],
      "execution_count": 62,
      "outputs": []
    },
    {
      "cell_type": "markdown",
      "metadata": {
        "id": "m4LUlqPTwo0a"
      },
      "source": [
        "### 문제 30. 기존 모델을 멀티 모델로 변환하여 모델 서머리를 출력하세요."
      ]
    },
    {
      "cell_type": "code",
      "metadata": {
        "id": "_DMtsyLmwtXY",
        "colab": {
          "base_uri": "https://localhost:8080/"
        },
        "outputId": "de72ba44-63e8-4cfe-f9c1-d98875792264"
      },
      "source": [
        "# 기존 모델을 멀티 모델로 변환하여 모델 서머리를 출력하세요.\n",
        "new_model = multi_fashion_mnist_model(model)\n",
        "new_model.summary()"
      ],
      "execution_count": 63,
      "outputs": [
        {
          "output_type": "stream",
          "name": "stdout",
          "text": [
            "Model: \"model_2\"\n",
            "_________________________________________________________________\n",
            " Layer (type)                Output Shape              Param #   \n",
            "=================================================================\n",
            " input_2 (InputLayer)        [(None, 56, 56, 1)]       0         \n",
            "                                                                 \n",
            " conv2d_3 (Conv2D)           (None, 56, 56, 16)        80        \n",
            "                                                                 \n",
            " max_pooling2d_3 (MaxPoolin  (None, 28, 28, 16)        0         \n",
            " g2D)                                                            \n",
            "                                                                 \n",
            " dropout_2 (Dropout)         (None, 28, 28, 16)        0         \n",
            "                                                                 \n",
            " conv2d_4 (Conv2D)           (None, 28, 28, 32)        2080      \n",
            "                                                                 \n",
            " max_pooling2d_4 (MaxPoolin  (None, 14, 14, 32)        0         \n",
            " g2D)                                                            \n",
            "                                                                 \n",
            " dropout_3 (Dropout)         (None, 14, 14, 32)        0         \n",
            "                                                                 \n",
            " conv2d_5 (Conv2D)           (None, 14, 14, 64)        8256      \n",
            "                                                                 \n",
            " max_pooling2d_5 (MaxPoolin  (None, 7, 7, 64)          0         \n",
            " g2D)                                                            \n",
            "                                                                 \n",
            " global_average_pooling2d (  (None, 64)                0         \n",
            " GlobalAveragePooling2D)                                         \n",
            "                                                                 \n",
            " dense_2 (Dense)             (None, 10)                650       \n",
            "                                                                 \n",
            "=================================================================\n",
            "Total params: 11066 (43.23 KB)\n",
            "Trainable params: 650 (2.54 KB)\n",
            "Non-trainable params: 10416 (40.69 KB)\n",
            "_________________________________________________________________\n"
          ]
        }
      ]
    },
    {
      "cell_type": "markdown",
      "metadata": {
        "id": "JqPCAn2iw4qM"
      },
      "source": [
        "### 문제 31. 문제 25과 같은 세팅으로 train_multi_images를 학습시키세요."
      ]
    },
    {
      "cell_type": "code",
      "metadata": {
        "id": "diDpP7Wqw3O9",
        "colab": {
          "base_uri": "https://localhost:8080/"
        },
        "outputId": "c3a2d771-f710-46ee-98cb-66402a080bd2"
      },
      "source": [
        "# 문제 25과 같은 세팅으로 train_multi_images를 학습시키세요.\n",
        "new_model.compile(loss=\"categorical_crossentropy\", optimizer=\"adam\", metrics=['accuracy'])\n",
        "hist = new_model.fit(train_multi_images,\n",
        "                train_multi_labels,\n",
        "                 validation_data = (test_multi_images,test_multi_labels),\n",
        "                                    epochs = 15,\n",
        "                                    verbose = 1\n",
        "                 )"
      ],
      "execution_count": 64,
      "outputs": [
        {
          "output_type": "stream",
          "name": "stdout",
          "text": [
            "Epoch 1/15\n",
            "1875/1875 [==============================] - 9s 4ms/step - loss: 5.0580 - accuracy: 0.1697 - val_loss: 4.2817 - val_accuracy: 0.2491\n",
            "Epoch 2/15\n",
            "1875/1875 [==============================] - 7s 4ms/step - loss: 4.3760 - accuracy: 0.2333 - val_loss: 4.1024 - val_accuracy: 0.2760\n",
            "Epoch 3/15\n",
            "1875/1875 [==============================] - 7s 4ms/step - loss: 4.2297 - accuracy: 0.2664 - val_loss: 3.9489 - val_accuracy: 0.2851\n",
            "Epoch 4/15\n",
            "1875/1875 [==============================] - 7s 4ms/step - loss: 4.1631 - accuracy: 0.2874 - val_loss: 3.9156 - val_accuracy: 0.3131\n",
            "Epoch 5/15\n",
            "1875/1875 [==============================] - 7s 4ms/step - loss: 4.1718 - accuracy: 0.3015 - val_loss: 3.9221 - val_accuracy: 0.3134\n",
            "Epoch 6/15\n",
            "1875/1875 [==============================] - 7s 4ms/step - loss: 4.2069 - accuracy: 0.3149 - val_loss: 4.0822 - val_accuracy: 0.5055\n",
            "Epoch 7/15\n",
            "1875/1875 [==============================] - 6s 3ms/step - loss: 4.2624 - accuracy: 0.3228 - val_loss: 4.1091 - val_accuracy: 0.5271\n",
            "Epoch 8/15\n",
            "1875/1875 [==============================] - 7s 4ms/step - loss: 4.3224 - accuracy: 0.3296 - val_loss: 4.0666 - val_accuracy: 0.5541\n",
            "Epoch 9/15\n",
            "1875/1875 [==============================] - 6s 3ms/step - loss: 4.3876 - accuracy: 0.3478 - val_loss: 4.1165 - val_accuracy: 0.5532\n",
            "Epoch 10/15\n",
            "1875/1875 [==============================] - 8s 4ms/step - loss: 4.4551 - accuracy: 0.3540 - val_loss: 4.2532 - val_accuracy: 0.5625\n",
            "Epoch 11/15\n",
            "1875/1875 [==============================] - 6s 3ms/step - loss: 4.5444 - accuracy: 0.3602 - val_loss: 4.3275 - val_accuracy: 0.5485\n",
            "Epoch 12/15\n",
            "1875/1875 [==============================] - 7s 4ms/step - loss: 4.6377 - accuracy: 0.3737 - val_loss: 4.3834 - val_accuracy: 0.5587\n",
            "Epoch 13/15\n",
            "1875/1875 [==============================] - 6s 3ms/step - loss: 4.7052 - accuracy: 0.3793 - val_loss: 4.4637 - val_accuracy: 0.5544\n",
            "Epoch 14/15\n",
            "1875/1875 [==============================] - 7s 4ms/step - loss: 4.8289 - accuracy: 0.3732 - val_loss: 4.7191 - val_accuracy: 0.5702\n",
            "Epoch 15/15\n",
            "1875/1875 [==============================] - 7s 4ms/step - loss: 4.9417 - accuracy: 0.3722 - val_loss: 4.6393 - val_accuracy: 0.5745\n"
          ]
        }
      ]
    },
    {
      "cell_type": "code",
      "source": [
        "epochs = 15\n",
        "batch_size = 32\n",
        "new_model.compile(loss=\"binary_crossentropy\", optimizer=\"adam\", metrics=['accuracy'])\n",
        "for epoch in range(epochs):\n",
        "    for _ in range(0, len(train_images), batch_size):\n",
        "        batch_x = []\n",
        "        batch_y = []\n",
        "\n",
        "        for _ in range(batch_size):\n",
        "            x,y = expand_4times2(train_images,train_labels)\n",
        "            batch_x.append(x)\n",
        "            batch_y.append(y)\n",
        "\n",
        "        batch_x = np.array(batch_x).reshape((-1,56,56,1))\n",
        "        batch_y = np.array(batch_y).reshape((-1,10))\n",
        "        new_model.train_on_batch(batch_x,batch_y)\n",
        "    print(epoch, \"e\")\n",
        "\n"
      ],
      "metadata": {
        "colab": {
          "base_uri": "https://localhost:8080/"
        },
        "id": "Q2QgFFlOMxMK",
        "outputId": "f88bf0d7-a4b3-40c6-d281-4af021aca7f7"
      },
      "execution_count": 90,
      "outputs": [
        {
          "output_type": "stream",
          "name": "stdout",
          "text": [
            "0 e\n",
            "1 e\n",
            "2 e\n",
            "3 e\n",
            "4 e\n",
            "5 e\n",
            "6 e\n",
            "7 e\n",
            "8 e\n",
            "9 e\n",
            "10 e\n",
            "11 e\n",
            "12 e\n",
            "13 e\n",
            "14 e\n"
          ]
        }
      ]
    },
    {
      "cell_type": "markdown",
      "metadata": {
        "id": "Gfi5SHaC-Vag"
      },
      "source": [
        "### 문제 32. 완성된 모델에서 test_multi_images를 1장 넣고 결과를 res 변수에 저정한뒤 실제 test_multi_labels와 비교해보세요."
      ]
    },
    {
      "cell_type": "code",
      "source": [
        "plt.plot(hist.history['accuracy'],label = 'accuracy')\n",
        "plt.plot(hist.history['loss'],label = 'loss')\n",
        "plt.plot(hist.history['val_accuracy'],label = 'val_accuracy')\n",
        "plt.plot(hist.history['val_loss'],label = 'val_loss')\n",
        "plt.legend(loc='upper right')\n",
        "plt.show()"
      ],
      "metadata": {
        "colab": {
          "base_uri": "https://localhost:8080/",
          "height": 430
        },
        "id": "65W5zLimLNpf",
        "outputId": "befd3602-a587-405f-8589-33efdc344b06"
      },
      "execution_count": 91,
      "outputs": [
        {
          "output_type": "display_data",
          "data": {
            "text/plain": [
              "<Figure size 640x480 with 1 Axes>"
            ],
            "image/png": "[encoded data removed]"
          },
          "metadata": {}
        }
      ]
    },
    {
      "cell_type": "code",
      "metadata": {
        "id": "QKjeOiSZ6Wrr",
        "colab": {
          "base_uri": "https://localhost:8080/"
        },
        "outputId": "e3750764-b512-42e0-9d9d-f84e9a0c7f61"
      },
      "source": [
        "# 완성된 모델에서 test_multi_images를 1장 넣고 결과를 res 변수에 저정한뒤 실제 test_multi_labels와 비교해보세요.\n",
        "res = new_model.predict(test_multi_images[8].reshape((1,56,56,1)))\n",
        "res.shape"
      ],
      "execution_count": 101,
      "outputs": [
        {
          "output_type": "stream",
          "name": "stdout",
          "text": [
            "1/1 [==============================] - 0s 18ms/step\n"
          ]
        },
        {
          "output_type": "execute_result",
          "data": {
            "text/plain": [
              "(1, 10)"
            ]
          },
          "metadata": {},
          "execution_count": 101
        }
      ]
    },
    {
      "cell_type": "code",
      "source": [
        "plt.bar(np.arange(0,10),test_multi_labels[8],color='black')\n",
        "plt.show()\n"
      ],
      "metadata": {
        "colab": {
          "base_uri": "https://localhost:8080/",
          "height": 430
        },
        "id": "YWsL-cYMLjV1",
        "outputId": "94057745-2222-4d59-c5e3-66fdf81da6b8"
      },
      "execution_count": 103,
      "outputs": [
        {
          "output_type": "display_data",
          "data": {
            "text/plain": [
              "<Figure size 640x480 with 1 Axes>"
            ],
            "image/png": "[encoded data removed]"
          },
          "metadata": {}
        }
      ]
    },
    {
      "cell_type": "code",
      "source": [
        "plt.bar(np.arange(0,10),res[0]>0.5,color='red')\n",
        "plt.show()"
      ],
      "metadata": {
        "colab": {
          "base_uri": "https://localhost:8080/",
          "height": 430
        },
        "id": "Z1tF9DAqQGkv",
        "outputId": "3bfc9b57-012e-492f-d0f8-6c12cd3a7952"
      },
      "execution_count": 100,
      "outputs": [
        {
          "output_type": "display_data",
          "data": {
            "text/plain": [
              "<Figure size 640x480 with 1 Axes>"
            ],
            "image/png": "[encoded data removed]"
          },
          "metadata": {}
        }
      ]
    },
    {
      "cell_type": "markdown",
      "metadata": {
        "id": "jEMuwUYP71jb"
      },
      "source": [
        "## Step 8. 모델 저장 및 로드, 다운"
      ]
    },
    {
      "cell_type": "markdown",
      "metadata": {
        "id": "c2GZFvCAzFNl"
      },
      "source": [
        "### 문제 33. 모델을 저장하세요."
      ]
    },
    {
      "cell_type": "code",
      "metadata": {
        "id": "YjuCVTNbriVJ"
      },
      "source": [
        "# 모델을 저장하는 코드를 작성하세요.\n",
        "model.save('./lecture008-multiclass.h5')\n",
        "new_model.save('./lecture008-multilabel.h5')"
      ],
      "execution_count": 104,
      "outputs": []
    },
    {
      "cell_type": "markdown",
      "metadata": {
        "id": "Bj4P3DdzzhyC"
      },
      "source": [
        "### 문제 34. 모델 파일을 새로운 모델에 로드하세요."
      ]
    },
    {
      "cell_type": "code",
      "metadata": {
        "id": "xuRAnBR8zY-X"
      },
      "source": [
        "# 모델을 로드하는 코드를 작성하세요\n",
        "model2 = tf.keras.models.load_model('./lecture008-multiclass.h5')\n",
        "model3 = tf.keras.models.load_model('./lecture008-multilabel.h5')"
      ],
      "execution_count": 105,
      "outputs": []
    },
    {
      "cell_type": "markdown",
      "metadata": {
        "id": "ta1I5ZEY1FBR"
      },
      "source": [
        "### 문제 35. 로드한 모델을 test 데이터로 평가해보세요.\n"
      ]
    },
    {
      "cell_type": "code",
      "metadata": {
        "id": "ALrVf_lm0_Bc",
        "colab": {
          "base_uri": "https://localhost:8080/"
        },
        "outputId": "787cee07-6916-49c7-bb93-1ae42ac824d4"
      },
      "source": [
        "# 로드한 모델을 test 데이터로 평가해보세요.\n",
        "loss, acc = model2.evaluate(test_expand_images.reshape((-1,56,56,1)), tf.keras.utils.to_categorical(test_labels))\n",
        "print(loss, acc)"
      ],
      "execution_count": 107,
      "outputs": [
        {
          "output_type": "stream",
          "name": "stdout",
          "text": [
            "313/313 [==============================] - 2s 5ms/step - loss: 0.4812 - accuracy: 0.8297\n",
            "0.4812318980693817 0.8296999931335449\n"
          ]
        }
      ]
    },
    {
      "cell_type": "markdown",
      "metadata": {
        "id": "gfEgY1Vr1T1v"
      },
      "source": [
        "### 문제 36. 모델을 내 컴퓨터에 저장해보세요"
      ]
    },
    {
      "cell_type": "code",
      "metadata": {
        "id": "ASkJv_Ui1RGv",
        "colab": {
          "base_uri": "https://localhost:8080/",
          "height": 17
        },
        "outputId": "1a275591-3b0d-49a7-ae05-7d0054aeef45"
      },
      "source": [
        "# 모델을 내 컴퓨터에 저장해보세요.\n",
        "from google.colab import files\n",
        "files.download('./lecture008-multilabel.h5')"
      ],
      "execution_count": 108,
      "outputs": [
        {
          "output_type": "display_data",
          "data": {
            "text/plain": [
              "<IPython.core.display.Javascript object>"
            ],
            "application/javascript": [
              "\n",
              "    async function download(id, filename, size) {\n",
              "      if (!google.colab.kernel.accessAllowed) {\n",
              "        return;\n",
              "      }\n",
              "      const div = document.createElement('div');\n",
              "      const label = document.createElement('label');\n",
              "      label.textContent = `Downloading \"${filename}\": `;\n",
              "      div.appendChild(label);\n",
              "      const progress = document.createElement('progress');\n",
              "      progress.max = size;\n",
              "      div.appendChild(progress);\n",
              "      document.body.appendChild(div);\n",
              "\n",
              "      const buffers = [];\n",
              "      let downloaded = 0;\n",
              "\n",
              "      const channel = await google.colab.kernel.comms.open(id);\n",
              "      // Send a message to notify the kernel that we're ready.\n",
              "      channel.send({})\n",
              "\n",
              "      for await (const message of channel.messages) {\n",
              "        // Send a message to notify the kernel that we're ready.\n",
              "        channel.send({})\n",
              "        if (message.buffers) {\n",
              "          for (const buffer of message.buffers) {\n",
              "            buffers.push(buffer);\n",
              "            downloaded += buffer.byteLength;\n",
              "            progress.value = downloaded;\n",
              "          }\n",
              "        }\n",
              "      }\n",
              "      const blob = new Blob(buffers, {type: 'application/binary'});\n",
              "      const a = document.createElement('a');\n",
              "      a.href = window.URL.createObjectURL(blob);\n",
              "      a.download = filename;\n",
              "      div.appendChild(a);\n",
              "      a.click();\n",
              "      div.remove();\n",
              "    }\n",
              "  "
            ]
          },
          "metadata": {}
        },
        {
          "output_type": "display_data",
          "data": {
            "text/plain": [
              "<IPython.core.display.Javascript object>"
            ],
            "application/javascript": [
              "download(\"download_631da215-2804-423d-ad41-63f8aa207458\", \"lecture008-multilabel.h5\", 87624)"
            ]
          },
          "metadata": {}
        }
      ]
    },
    {
      "cell_type": "code",
      "metadata": {
        "id": "lJm9QRGXTS-K"
      },
      "source": [],
      "execution_count": 69,
      "outputs": []
    }
  ]
}
